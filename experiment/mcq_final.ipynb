{
  "cells": [
    {
      "cell_type": "code",
      "execution_count": 2,
      "metadata": {
        "colab": {
          "base_uri": "https://localhost:8080/"
        },
        "id": "DW252IMGe86l",
        "outputId": "07568d31-cdaa-4bf0-d6eb-6b5f66fed1b6"
      },
      "outputs": [
        {
          "name": "stdout",
          "output_type": "stream",
          "text": [
            "Collecting pandas\n",
            "  Using cached pandas-2.0.3-cp38-cp38-win_amd64.whl.metadata (18 kB)\n",
            "Requirement already satisfied: python-dateutil>=2.8.2 in c:\\users\\athar\\anaconda3\\envs\\testingopenai\\lib\\site-packages (from pandas) (2.9.0.post0)\n",
            "Requirement already satisfied: pytz>=2020.1 in c:\\users\\athar\\anaconda3\\envs\\testingopenai\\lib\\site-packages (from pandas) (2024.1)\n",
            "Collecting tzdata>=2022.1 (from pandas)\n",
            "  Using cached tzdata-2024.1-py2.py3-none-any.whl.metadata (1.4 kB)\n",
            "Collecting numpy>=1.20.3 (from pandas)\n",
            "  Using cached numpy-1.24.4-cp38-cp38-win_amd64.whl.metadata (5.6 kB)\n",
            "Requirement already satisfied: six>=1.5 in c:\\users\\athar\\anaconda3\\envs\\testingopenai\\lib\\site-packages (from python-dateutil>=2.8.2->pandas) (1.16.0)\n",
            "Using cached pandas-2.0.3-cp38-cp38-win_amd64.whl (10.8 MB)\n",
            "Using cached numpy-1.24.4-cp38-cp38-win_amd64.whl (14.9 MB)\n",
            "Using cached tzdata-2024.1-py2.py3-none-any.whl (345 kB)\n",
            "Installing collected packages: tzdata, numpy, pandas\n",
            "Successfully installed numpy-1.24.4 pandas-2.0.3 tzdata-2024.1\n",
            "Note: you may need to restart the kernel to use updated packages.\n",
            "Requirement already satisfied: numpy in c:\\users\\athar\\anaconda3\\envs\\testingopenai\\lib\\site-packages (1.24.4)\n",
            "Note: you may need to restart the kernel to use updated packages.\n",
            "Note: you may need to restart the kernel to use updated packages.Collecting dotenv\n",
            "  Downloading dotenv-0.0.5.tar.gz (2.4 kB)\n",
            "  Preparing metadata (setup.py): started\n",
            "  Preparing metadata (setup.py): finished with status 'error'\n",
            "\n"
          ]
        },
        {
          "name": "stderr",
          "output_type": "stream",
          "text": [
            "  error: subprocess-exited-with-error\n",
            "  \n",
            "  × python setup.py egg_info did not run successfully.\n",
            "  │ exit code: 1\n",
            "  ╰─> [76 lines of output]\n",
            "      c:\\Users\\athar\\anaconda3\\envs\\testingopenai\\lib\\site-packages\\setuptools\\__init__.py:81: _DeprecatedInstaller: setuptools.installer and fetch_build_eggs are deprecated.\n",
            "      !!\n",
            "      \n",
            "              ********************************************************************************\n",
            "              Requirements should be satisfied by a PEP 517 installer.\n",
            "              If you are using pip, you can try `pip install --use-pep517`.\n",
            "              ********************************************************************************\n",
            "      \n",
            "      !!\n",
            "        dist.fetch_build_eggs(dist.setup_requires)\n",
            "        error: subprocess-exited-with-error\n",
            "      \n",
            "        × python setup.py egg_info did not run successfully.\n",
            "        │ exit code: 1\n",
            "        ╰─> [16 lines of output]\n",
            "            Traceback (most recent call last):\n",
            "              File \"<string>\", line 2, in <module>\n",
            "              File \"<pip-setuptools-caller>\", line 14, in <module>\n",
            "              File \"C:\\Users\\athar\\AppData\\Local\\Temp\\pip-wheel-b8udjedw\\distribute_14cd62781b744147a7d1f1a404b08455\\setuptools\\__init__.py\", line 2, in <module>\n",
            "                from setuptools.extension import Extension, Library\n",
            "              File \"C:\\Users\\athar\\AppData\\Local\\Temp\\pip-wheel-b8udjedw\\distribute_14cd62781b744147a7d1f1a404b08455\\setuptools\\extension.py\", line 5, in <module>\n",
            "                from setuptools.dist import _get_unpatched\n",
            "              File \"C:\\Users\\athar\\AppData\\Local\\Temp\\pip-wheel-b8udjedw\\distribute_14cd62781b744147a7d1f1a404b08455\\setuptools\\dist.py\", line 7, in <module>\n",
            "                from setuptools.command.install import install\n",
            "              File \"C:\\Users\\athar\\AppData\\Local\\Temp\\pip-wheel-b8udjedw\\distribute_14cd62781b744147a7d1f1a404b08455\\setuptools\\command\\__init__.py\", line 8, in <module>\n",
            "                from setuptools.command import install_scripts\n",
            "              File \"C:\\Users\\athar\\AppData\\Local\\Temp\\pip-wheel-b8udjedw\\distribute_14cd62781b744147a7d1f1a404b08455\\setuptools\\command\\install_scripts.py\", line 3, in <module>\n",
            "                from pkg_resources import Distribution, PathMetadata, ensure_directory\n",
            "              File \"C:\\Users\\athar\\AppData\\Local\\Temp\\pip-wheel-b8udjedw\\distribute_14cd62781b744147a7d1f1a404b08455\\pkg_resources.py\", line 1518, in <module>\n",
            "                register_loader_type(importlib_bootstrap.SourceFileLoader, DefaultProvider)\n",
            "            AttributeError: module 'importlib._bootstrap' has no attribute 'SourceFileLoader'\n",
            "            [end of output]\n",
            "      \n",
            "        note: This error originates from a subprocess, and is likely not a problem with pip.\n",
            "      error: metadata-generation-failed\n",
            "      \n",
            "      × Encountered error while generating package metadata.\n",
            "      ╰─> See above for output.\n",
            "      \n",
            "      note: This is an issue with the package mentioned above, not pip.\n",
            "      hint: See above for details.\n",
            "      Traceback (most recent call last):\n",
            "        File \"c:\\Users\\athar\\anaconda3\\envs\\testingopenai\\lib\\site-packages\\setuptools\\installer.py\", line 101, in _fetch_build_egg_no_warn\n",
            "          subprocess.check_call(cmd)\n",
            "        File \"c:\\Users\\athar\\anaconda3\\envs\\testingopenai\\lib\\subprocess.py\", line 364, in check_call\n",
            "          raise CalledProcessError(retcode, cmd)\n",
            "      subprocess.CalledProcessError: Command '['c:\\\\Users\\\\athar\\\\anaconda3\\\\envs\\\\testingopenai\\\\python.exe', '-m', 'pip', '--disable-pip-version-check', 'wheel', '--no-deps', '-w', 'C:\\\\Users\\\\athar\\\\AppData\\\\Local\\\\Temp\\\\tmpi1jb3ui2', '--quiet', 'distribute']' returned non-zero exit status 1.\n",
            "      \n",
            "      The above exception was the direct cause of the following exception:\n",
            "      \n",
            "      Traceback (most recent call last):\n",
            "        File \"<string>\", line 2, in <module>\n",
            "        File \"<pip-setuptools-caller>\", line 34, in <module>\n",
            "        File \"C:\\Users\\athar\\AppData\\Local\\Temp\\pip-install-5mah_v96\\dotenv_78344dedfc994dd781c390ad404f62d7\\setup.py\", line 13, in <module>\n",
            "          setup(name='dotenv',\n",
            "        File \"c:\\Users\\athar\\anaconda3\\envs\\testingopenai\\lib\\site-packages\\setuptools\\__init__.py\", line 103, in setup\n",
            "          _install_setup_requires(attrs)\n",
            "        File \"c:\\Users\\athar\\anaconda3\\envs\\testingopenai\\lib\\site-packages\\setuptools\\__init__.py\", line 76, in _install_setup_requires\n",
            "          _fetch_build_eggs(dist)\n",
            "        File \"c:\\Users\\athar\\anaconda3\\envs\\testingopenai\\lib\\site-packages\\setuptools\\__init__.py\", line 81, in _fetch_build_eggs\n",
            "          dist.fetch_build_eggs(dist.setup_requires)\n",
            "        File \"c:\\Users\\athar\\anaconda3\\envs\\testingopenai\\lib\\site-packages\\setuptools\\dist.py\", line 640, in fetch_build_eggs\n",
            "          return _fetch_build_eggs(self, requires)\n",
            "        File \"c:\\Users\\athar\\anaconda3\\envs\\testingopenai\\lib\\site-packages\\setuptools\\installer.py\", line 38, in _fetch_build_eggs\n",
            "          resolved_dists = pkg_resources.working_set.resolve(\n",
            "        File \"c:\\Users\\athar\\anaconda3\\envs\\testingopenai\\lib\\site-packages\\pkg_resources\\__init__.py\", line 798, in resolve\n",
            "          dist = self._resolve_dist(\n",
            "        File \"c:\\Users\\athar\\anaconda3\\envs\\testingopenai\\lib\\site-packages\\pkg_resources\\__init__.py\", line 834, in _resolve_dist\n",
            "          dist = best[req.key] = env.best_match(\n",
            "        File \"c:\\Users\\athar\\anaconda3\\envs\\testingopenai\\lib\\site-packages\\pkg_resources\\__init__.py\", line 1104, in best_match\n",
            "          return self.obtain(req, installer)\n",
            "        File \"c:\\Users\\athar\\anaconda3\\envs\\testingopenai\\lib\\site-packages\\pkg_resources\\__init__.py\", line 1115, in obtain\n",
            "          return installer(requirement) if installer else None\n",
            "        File \"c:\\Users\\athar\\anaconda3\\envs\\testingopenai\\lib\\site-packages\\setuptools\\installer.py\", line 103, in _fetch_build_egg_no_warn\n",
            "          raise DistutilsError(str(e)) from e\n",
            "      distutils.errors.DistutilsError: Command '['c:\\\\Users\\\\athar\\\\anaconda3\\\\envs\\\\testingopenai\\\\python.exe', '-m', 'pip', '--disable-pip-version-check', 'wheel', '--no-deps', '-w', 'C:\\\\Users\\\\athar\\\\AppData\\\\Local\\\\Temp\\\\tmpi1jb3ui2', '--quiet', 'distribute']' returned non-zero exit status 1.\n",
            "      [end of output]\n",
            "  \n",
            "  note: This error originates from a subprocess, and is likely not a problem with pip.\n",
            "error: metadata-generation-failed\n",
            "\n",
            "× Encountered error while generating package metadata.\n",
            "╰─> See above for output.\n",
            "\n",
            "note: This is an issue with the package mentioned above, not pip.\n",
            "hint: See above for details.\n"
          ]
        }
      ],
      "source": [
        "%pip install pandas\n",
        "%pip install numpy\n",
        "%pip install dotenv"
      ]
    },
    {
      "cell_type": "code",
      "execution_count": 1,
      "metadata": {
        "id": "7afO1R_fe4Oa"
      },
      "outputs": [],
      "source": [
        "import os\n",
        "import json\n",
        "import pandas as pd\n",
        "import traceback"
      ]
    },
    {
      "cell_type": "code",
      "execution_count": 6,
      "metadata": {},
      "outputs": [
        {
          "name": "stdout",
          "output_type": "stream",
          "text": [
            "Note: you may need to restart the kernel to use updated packages.Collecting dotenv\n",
            "  Using cached dotenv-0.0.5.tar.gz (2.4 kB)\n",
            "  Installing build dependencies: started\n",
            "  Installing build dependencies: finished with status 'done'\n",
            "  Getting requirements to build wheel: started\n",
            "  Getting requirements to build wheel: finished with status 'done'\n",
            "  Installing backend dependencies: started\n",
            "  Installing backend dependencies: finished with status 'error'\n",
            "\n"
          ]
        },
        {
          "name": "stderr",
          "output_type": "stream",
          "text": [
            "  error: subprocess-exited-with-error\n",
            "  \n",
            "  × pip subprocess to install backend dependencies did not run successfully.\n",
            "  │ exit code: 1\n",
            "  ╰─> [35 lines of output]\n",
            "      Collecting distribute\n",
            "        Using cached distribute-0.7.3.zip (145 kB)\n",
            "        Preparing metadata (setup.py): started\n",
            "        Preparing metadata (setup.py): finished with status 'error'\n",
            "        error: subprocess-exited-with-error\n",
            "      \n",
            "        × python setup.py egg_info did not run successfully.\n",
            "        │ exit code: 1\n",
            "        ╰─> [16 lines of output]\n",
            "            Traceback (most recent call last):\n",
            "              File \"<string>\", line 2, in <module>\n",
            "              File \"<pip-setuptools-caller>\", line 14, in <module>\n",
            "              File \"C:\\Users\\athar\\AppData\\Local\\Temp\\pip-install-gndc3wxi\\distribute_85846e3ab3ce431794b05f9ec63f6eb2\\setuptools\\__init__.py\", line 2, in <module>\n",
            "                from setuptools.extension import Extension, Library\n",
            "              File \"C:\\Users\\athar\\AppData\\Local\\Temp\\pip-install-gndc3wxi\\distribute_85846e3ab3ce431794b05f9ec63f6eb2\\setuptools\\extension.py\", line 5, in <module>\n",
            "                from setuptools.dist import _get_unpatched\n",
            "              File \"C:\\Users\\athar\\AppData\\Local\\Temp\\pip-install-gndc3wxi\\distribute_85846e3ab3ce431794b05f9ec63f6eb2\\setuptools\\dist.py\", line 7, in <module>\n",
            "                from setuptools.command.install import install\n",
            "              File \"C:\\Users\\athar\\AppData\\Local\\Temp\\pip-install-gndc3wxi\\distribute_85846e3ab3ce431794b05f9ec63f6eb2\\setuptools\\command\\__init__.py\", line 8, in <module>\n",
            "                from setuptools.command import install_scripts\n",
            "              File \"C:\\Users\\athar\\AppData\\Local\\Temp\\pip-install-gndc3wxi\\distribute_85846e3ab3ce431794b05f9ec63f6eb2\\setuptools\\command\\install_scripts.py\", line 3, in <module>\n",
            "                from pkg_resources import Distribution, PathMetadata, ensure_directory\n",
            "              File \"C:\\Users\\athar\\AppData\\Local\\Temp\\pip-install-gndc3wxi\\distribute_85846e3ab3ce431794b05f9ec63f6eb2\\pkg_resources.py\", line 1518, in <module>\n",
            "                register_loader_type(importlib_bootstrap.SourceFileLoader, DefaultProvider)\n",
            "            AttributeError: module 'importlib._bootstrap' has no attribute 'SourceFileLoader'\n",
            "            [end of output]\n",
            "      \n",
            "        note: This error originates from a subprocess, and is likely not a problem with pip.\n",
            "      error: metadata-generation-failed\n",
            "      \n",
            "      × Encountered error while generating package metadata.\n",
            "      ╰─> See above for output.\n",
            "      \n",
            "      note: This is an issue with the package mentioned above, not pip.\n",
            "      hint: See above for details.\n",
            "      [end of output]\n",
            "  \n",
            "  note: This error originates from a subprocess, and is likely not a problem with pip.\n",
            "error: subprocess-exited-with-error\n",
            "\n",
            "× pip subprocess to install backend dependencies did not run successfully.\n",
            "│ exit code: 1\n",
            "╰─> See above for output.\n",
            "\n",
            "note: This error originates from a subprocess, and is likely not a problem with pip.\n"
          ]
        }
      ],
      "source": [
        "%pip install --use-pep517 dotenv"
      ]
    },
    {
      "cell_type": "code",
      "execution_count": 4,
      "metadata": {
        "id": "8KjYUc8Jfje_"
      },
      "outputs": [
        {
          "ename": "ModuleNotFoundError",
          "evalue": "No module named 'dotenv'",
          "output_type": "error",
          "traceback": [
            "\u001b[1;31m---------------------------------------------------------------------------\u001b[0m",
            "\u001b[1;31mModuleNotFoundError\u001b[0m                       Traceback (most recent call last)",
            "Cell \u001b[1;32mIn[4], line 1\u001b[0m\n\u001b[1;32m----> 1\u001b[0m \u001b[38;5;28;01mfrom\u001b[39;00m \u001b[38;5;21;01mdotenv\u001b[39;00m \u001b[38;5;28;01mimport\u001b[39;00m load_dotenv\n\u001b[0;32m      2\u001b[0m load_dotenv()\n\u001b[0;32m      3\u001b[0m api_key\u001b[38;5;241m=\u001b[39mos\u001b[38;5;241m.\u001b[39mgetenv(\u001b[38;5;124m'\u001b[39m\u001b[38;5;124mGOOGLE_API_KEY\u001b[39m\u001b[38;5;124m'\u001b[39m)\n",
            "\u001b[1;31mModuleNotFoundError\u001b[0m: No module named 'dotenv'"
          ]
        }
      ],
      "source": [
        "from dotenv import load_dotenv\n",
        "load_dotenv()\n",
        "api_key=os.getenv('GOOGLE_API_KEY')"
      ]
    },
    {
      "cell_type": "code",
      "execution_count": 4,
      "metadata": {
        "colab": {
          "base_uri": "https://localhost:8080/"
        },
        "id": "TJhqafjde4Of",
        "outputId": "e30e0515-54ab-46b1-b758-8d15725633a6"
      },
      "outputs": [
        {
          "name": "stdout",
          "output_type": "stream",
          "text": [
            "\u001b[2K     \u001b[90m━━━━━━━━━━━━━━━━━━━━━━━━━━━━━━━━━━━━━━━━\u001b[0m \u001b[32m50.4/50.4 kB\u001b[0m \u001b[31m2.1 MB/s\u001b[0m eta \u001b[36m0:00:00\u001b[0m\n",
            "\u001b[2K   \u001b[90m━━━━━━━━━━━━━━━━━━━━━━━━━━━━━━━━━━━━━━━━\u001b[0m \u001b[32m4.5/4.5 MB\u001b[0m \u001b[31m39.0 MB/s\u001b[0m eta \u001b[36m0:00:00\u001b[0m\n",
            "\u001b[2K   \u001b[90m━━━━━━━━━━━━━━━━━━━━━━━━━━━━━━━━━━━━━━━━\u001b[0m \u001b[32m391.5/391.5 kB\u001b[0m \u001b[31m21.1 MB/s\u001b[0m eta \u001b[36m0:00:00\u001b[0m\n",
            "\u001b[2K   \u001b[90m━━━━━━━━━━━━━━━━━━━━━━━━━━━━━━━━━━━━━━━━\u001b[0m \u001b[32m140.4/140.4 kB\u001b[0m \u001b[31m9.2 MB/s\u001b[0m eta \u001b[36m0:00:00\u001b[0m\n",
            "\u001b[2K   \u001b[90m━━━━━━━━━━━━━━━━━━━━━━━━━━━━━━━━━━━━━━━━\u001b[0m \u001b[32m141.9/141.9 kB\u001b[0m \u001b[31m9.7 MB/s\u001b[0m eta \u001b[36m0:00:00\u001b[0m\n",
            "\u001b[?25h"
          ]
        }
      ],
      "source": [
        "%pip install --upgrade --quiet  langchain-google-genai pillow"
      ]
    },
    {
      "cell_type": "code",
      "execution_count": 3,
      "metadata": {
        "id": "gYMun-w_e4Oi"
      },
      "outputs": [
        {
          "name": "stderr",
          "output_type": "stream",
          "text": [
            "d:\\mcqgen\\env\\Lib\\site-packages\\tqdm\\auto.py:21: TqdmWarning: IProgress not found. Please update jupyter and ipywidgets. See https://ipywidgets.readthedocs.io/en/stable/user_install.html\n",
            "  from .autonotebook import tqdm as notebook_tqdm\n"
          ]
        }
      ],
      "source": [
        "from langchain_google_genai import GoogleGenerativeAI\n"
      ]
    },
    {
      "cell_type": "code",
      "execution_count": 4,
      "metadata": {
        "id": "l5sd-B_5e4Oj"
      },
      "outputs": [],
      "source": [
        "llm = GoogleGenerativeAI(model=\"models/gemini-pro\", google_api_key=api_key)"
      ]
    },
    {
      "cell_type": "code",
      "execution_count": 5,
      "metadata": {
        "colab": {
          "base_uri": "https://localhost:8080/"
        },
        "id": "svx8H90Te4On",
        "outputId": "31cd7db8-5371-4913-8c72-d2780cdfcb88"
      },
      "outputs": [
        {
          "data": {
            "text/plain": [
              "GoogleGenerativeAI(model='models/gemini-pro', google_api_key=SecretStr('**********'), client=genai.GenerativeModel(\n",
              "    model_name='models/gemini-pro',\n",
              "    generation_config={},\n",
              "    safety_settings={},\n",
              "    tools=None,\n",
              "    system_instruction=None,\n",
              "    cached_content=None\n",
              "))"
            ]
          },
          "execution_count": 5,
          "metadata": {},
          "output_type": "execute_result"
        }
      ],
      "source": [
        "llm"
      ]
    },
    {
      "cell_type": "code",
      "execution_count": 6,
      "metadata": {
        "colab": {
          "base_uri": "https://localhost:8080/",
          "height": 55
        },
        "id": "PHJMJgL8a84z",
        "outputId": "7515f23b-e56b-48ff-915c-8e7fe1e0311e"
      },
      "outputs": [
        {
          "data": {
            "text/plain": [
              "'New Delhi'"
            ]
          },
          "execution_count": 6,
          "metadata": {},
          "output_type": "execute_result"
        }
      ],
      "source": [
        "llm.invoke(\"What is the capital of India?\")"
      ]
    },
    {
      "cell_type": "code",
      "execution_count": null,
      "metadata": {
        "colab": {
          "base_uri": "https://localhost:8080/"
        },
        "id": "1WNb4vPUgU8n",
        "outputId": "d6b99a29-0c7b-4823-b21c-e5e391855617"
      },
      "outputs": [
        {
          "name": "stdout",
          "output_type": "stream",
          "text": [
            "Collecting langchain\n",
            "  Downloading langchain-0.2.14-py3-none-any.whl.metadata (7.1 kB)\n",
            "Requirement already satisfied: PyYAML>=5.3 in /usr/local/lib/python3.10/dist-packages (from langchain) (6.0.2)\n",
            "Requirement already satisfied: SQLAlchemy<3,>=1.4 in /usr/local/lib/python3.10/dist-packages (from langchain) (2.0.32)\n",
            "Requirement already satisfied: aiohttp<4.0.0,>=3.8.3 in /usr/local/lib/python3.10/dist-packages (from langchain) (3.10.2)\n",
            "Requirement already satisfied: async-timeout<5.0.0,>=4.0.0 in /usr/local/lib/python3.10/dist-packages (from langchain) (4.0.3)\n",
            "Requirement already satisfied: langchain-core<0.3.0,>=0.2.32 in /usr/local/lib/python3.10/dist-packages (from langchain) (0.2.33)\n",
            "Collecting langchain-text-splitters<0.3.0,>=0.2.0 (from langchain)\n",
            "  Downloading langchain_text_splitters-0.2.2-py3-none-any.whl.metadata (2.1 kB)\n",
            "Requirement already satisfied: langsmith<0.2.0,>=0.1.17 in /usr/local/lib/python3.10/dist-packages (from langchain) (0.1.99)\n",
            "Requirement already satisfied: numpy<2,>=1 in /usr/local/lib/python3.10/dist-packages (from langchain) (1.26.4)\n",
            "Requirement already satisfied: pydantic<3,>=1 in /usr/local/lib/python3.10/dist-packages (from langchain) (2.8.2)\n",
            "Requirement already satisfied: requests<3,>=2 in /usr/local/lib/python3.10/dist-packages (from langchain) (2.32.3)\n",
            "Requirement already satisfied: tenacity!=8.4.0,<9.0.0,>=8.1.0 in /usr/local/lib/python3.10/dist-packages (from langchain) (8.5.0)\n",
            "Requirement already satisfied: aiohappyeyeballs>=2.3.0 in /usr/local/lib/python3.10/dist-packages (from aiohttp<4.0.0,>=3.8.3->langchain) (2.3.5)\n",
            "Requirement already satisfied: aiosignal>=1.1.2 in /usr/local/lib/python3.10/dist-packages (from aiohttp<4.0.0,>=3.8.3->langchain) (1.3.1)\n",
            "Requirement already satisfied: attrs>=17.3.0 in /usr/local/lib/python3.10/dist-packages (from aiohttp<4.0.0,>=3.8.3->langchain) (24.2.0)\n",
            "Requirement already satisfied: frozenlist>=1.1.1 in /usr/local/lib/python3.10/dist-packages (from aiohttp<4.0.0,>=3.8.3->langchain) (1.4.1)\n",
            "Requirement already satisfied: multidict<7.0,>=4.5 in /usr/local/lib/python3.10/dist-packages (from aiohttp<4.0.0,>=3.8.3->langchain) (6.0.5)\n",
            "Requirement already satisfied: yarl<2.0,>=1.0 in /usr/local/lib/python3.10/dist-packages (from aiohttp<4.0.0,>=3.8.3->langchain) (1.9.4)\n",
            "Requirement already satisfied: jsonpatch<2.0,>=1.33 in /usr/local/lib/python3.10/dist-packages (from langchain-core<0.3.0,>=0.2.32->langchain) (1.33)\n",
            "Requirement already satisfied: packaging<25,>=23.2 in /usr/local/lib/python3.10/dist-packages (from langchain-core<0.3.0,>=0.2.32->langchain) (24.1)\n",
            "Requirement already satisfied: typing-extensions>=4.7 in /usr/local/lib/python3.10/dist-packages (from langchain-core<0.3.0,>=0.2.32->langchain) (4.12.2)\n",
            "Requirement already satisfied: orjson<4.0.0,>=3.9.14 in /usr/local/lib/python3.10/dist-packages (from langsmith<0.2.0,>=0.1.17->langchain) (3.10.7)\n",
            "Requirement already satisfied: annotated-types>=0.4.0 in /usr/local/lib/python3.10/dist-packages (from pydantic<3,>=1->langchain) (0.7.0)\n",
            "Requirement already satisfied: pydantic-core==2.20.1 in /usr/local/lib/python3.10/dist-packages (from pydantic<3,>=1->langchain) (2.20.1)\n",
            "Requirement already satisfied: charset-normalizer<4,>=2 in /usr/local/lib/python3.10/dist-packages (from requests<3,>=2->langchain) (3.3.2)\n",
            "Requirement already satisfied: idna<4,>=2.5 in /usr/local/lib/python3.10/dist-packages (from requests<3,>=2->langchain) (3.7)\n",
            "Requirement already satisfied: urllib3<3,>=1.21.1 in /usr/local/lib/python3.10/dist-packages (from requests<3,>=2->langchain) (2.0.7)\n",
            "Requirement already satisfied: certifi>=2017.4.17 in /usr/local/lib/python3.10/dist-packages (from requests<3,>=2->langchain) (2024.7.4)\n",
            "Requirement already satisfied: greenlet!=0.4.17 in /usr/local/lib/python3.10/dist-packages (from SQLAlchemy<3,>=1.4->langchain) (3.0.3)\n",
            "Requirement already satisfied: jsonpointer>=1.9 in /usr/local/lib/python3.10/dist-packages (from jsonpatch<2.0,>=1.33->langchain-core<0.3.0,>=0.2.32->langchain) (3.0.0)\n",
            "Downloading langchain-0.2.14-py3-none-any.whl (997 kB)\n",
            "\u001b[2K   \u001b[90m━━━━━━━━━━━━━━━━━━━━━━━━━━━━━━━━━━━━━━━━\u001b[0m \u001b[32m997.8/997.8 kB\u001b[0m \u001b[31m10.7 MB/s\u001b[0m eta \u001b[36m0:00:00\u001b[0m\n",
            "\u001b[?25hDownloading langchain_text_splitters-0.2.2-py3-none-any.whl (25 kB)\n",
            "Installing collected packages: langchain-text-splitters, langchain\n",
            "Successfully installed langchain-0.2.14 langchain-text-splitters-0.2.2\n",
            "Collecting PyPDF2\n",
            "  Downloading pypdf2-3.0.1-py3-none-any.whl.metadata (6.8 kB)\n"
          ]
        }
      ],
      "source": [
        "%pip install langchain\n",
        "%pip install PyPDF2"
      ]
    },
    {
      "cell_type": "code",
      "execution_count": 7,
      "metadata": {
        "id": "HH1nhGv2e4Op"
      },
      "outputs": [],
      "source": [
        "from langchain.prompts import PromptTemplate\n",
        "from langchain.chains import LLMChain\n",
        "from langchain.chains import SequentialChain\n",
        "import PyPDF2"
      ]
    },
    {
      "cell_type": "code",
      "execution_count": 10,
      "metadata": {
        "id": "733dpgdxe4Oq"
      },
      "outputs": [],
      "source": [
        "RESPONSE_JSON = {\n",
        "  \"1\": {\n",
        "    \"mcq\": \"multiple choice question\",\n",
        "    \"options\": {\n",
        "      \"a\": \"choice here\",\n",
        "      \"b\": \"choice here\",\n",
        "      \"c\": \"choice here\",\n",
        "      \"d\": \"choice here\",\n",
        "    },\n",
        "    \"correct\": \"correct answer\",\n",
        "  },\n",
        "  \"2\": {\n",
        "    \"mcq\": \"multiple choice question\",\n",
        "    \"options\": {\n",
        "      \"a\": \"choice here\",\n",
        "      \"b\": \"choice here\",\n",
        "      \"c\": \"choice here\",\n",
        "      \"d\": \"choice here\",\n",
        "    },\n",
        "    \"correct\": \"correct answer\",\n",
        "  },\n",
        "  \"3\": {\n",
        "    \"mcq\": \"multiple choice question\",\n",
        "    \"options\": {\n",
        "      \"a\": \"choice here\",\n",
        "      \"b\": \"choice here\",\n",
        "      \"c\": \"choice here\",\n",
        "      \"d\": \"choice here\",\n",
        "    },\n",
        "    \"correct\": \"correct answer\",\n",
        "  },\n",
        "  \"4\": {\n",
        "    \"mcq\": \"multiple choice question\",\n",
        "    \"options\": {\n",
        "      \"a\": \"choice here\",\n",
        "      \"b\": \"choice here\",\n",
        "      \"c\": \"choice here\",\n",
        "      \"d\": \"choice here\",\n",
        "    },\n",
        "    \"correct\": \"correct answer\",\n",
        "  },\n",
        "\n",
        "}"
      ]
    },
    {
      "cell_type": "code",
      "execution_count": 11,
      "metadata": {
        "id": "TpHEJtWSe4Oq"
      },
      "outputs": [],
      "source": [
        "TEMPLATE=\"\"\"\n",
        "Text:{text}\n",
        "You are an expert MCQ maker. Given the above text, it is your job to \\\n",
        "create a quiz of {number} multiple choice questions for {subject} students in {tone} tone.\n",
        "Make sure the questions are not repeated and check all the questions to be conforming the text as well.\n",
        "Make sure to format your response like RESPONSE_JSON and use it as a guide. \\\n",
        "Ensure to make {number} MCQs\n",
        "### RESPONSE_JSON\n",
        "{response_json}\n",
        "\n",
        "\"\"\""
      ]
    },
    {
      "cell_type": "code",
      "execution_count": 12,
      "metadata": {
        "id": "98QgY4h3e4Or"
      },
      "outputs": [],
      "source": [
        "quiz_generation_prompt = PromptTemplate(\n",
        "  input_variables=[\"text\", \"number\", \"subject\", \"tone\", \"response_json\"],\n",
        "  template=TEMPLATE\n",
        ")"
      ]
    },
    {
      "cell_type": "code",
      "execution_count": 13,
      "metadata": {
        "colab": {
          "base_uri": "https://localhost:8080/"
        },
        "id": "JdBBTQ0Ve4Os",
        "outputId": "aaf4665f-64cf-4af3-eeba-e9559158d4d7"
      },
      "outputs": [],
      "source": [
        "quiz_chain=LLMChain(llm=llm, prompt=quiz_generation_prompt, output_key=\"quiz\", verbose=True)"
      ]
    },
    {
      "cell_type": "code",
      "execution_count": 14,
      "metadata": {
        "id": "wNS5TLYYe4Os"
      },
      "outputs": [],
      "source": [
        "TEMPLATE2=\"\"\"\n",
        "You are an expert grammarian and writer. Given a Multiple Choice Quiz for {subject} students.\\\n",
        "You need to evaluate the complexity of the question and give a complete analysis of the quiz. Only use at max 50 words for complexity\n",
        "if the quiz is not at per the congnitive and analytical abilities of the students,\\\n",
        "update the quiz questions which needs to be changed and change the tone such that it perfectly fits the students ability.\n",
        "Quiz_MCQs:\n",
        "{quiz}\n",
        "\n",
        "Check from an expert English Writer of the above quiz:\n",
        "\"\"\""
      ]
    },
    {
      "cell_type": "code",
      "execution_count": 16,
      "metadata": {
        "id": "0A20r-Mte4Os"
      },
      "outputs": [],
      "source": [
        "quiz_evaluation_prompt=PromptTemplate(input_variables=[\"subject\", \"quiz\"], template=TEMPLATE2)"
      ]
    },
    {
      "cell_type": "code",
      "execution_count": 17,
      "metadata": {
        "id": "7lx9_j5Ee4Os"
      },
      "outputs": [],
      "source": [
        "review_chain=LLMChain(llm=llm, prompt=quiz_evaluation_prompt, output_key=\"review\", verbose=True)"
      ]
    },
    {
      "cell_type": "code",
      "execution_count": 18,
      "metadata": {
        "id": "cR141U0-e4Ot"
      },
      "outputs": [],
      "source": [
        "generate_evaluation_chain=SequentialChain(\n",
        "  chains=[quiz_chain, review_chain],\n",
        "  input_variables=[\"text\", \"number\", \"subject\", \"tone\", \"response_json\"],\n",
        "  output_variables=[\"quiz\", \"review\"], verbose=True\n",
        "  )"
      ]
    },
    {
      "cell_type": "code",
      "execution_count": 23,
      "metadata": {
        "id": "WeZW7ztoe4Ot"
      },
      "outputs": [],
      "source": [
        "file_path=r\"D:\\mcqgen\\data.txt\""
      ]
    },
    {
      "cell_type": "code",
      "execution_count": 24,
      "metadata": {
        "id": "DoLRijuTe4Ou"
      },
      "outputs": [],
      "source": [
        "with open(file_path, 'r') as file:\n",
        "  TEXT=file.read()"
      ]
    },
    {
      "cell_type": "code",
      "execution_count": 25,
      "metadata": {
        "colab": {
          "base_uri": "https://localhost:8080/"
        },
        "id": "9OQV2dHUe4Ou",
        "outputId": "c7b212a4-e31a-4e63-8fd9-3c6c85d324ef"
      },
      "outputs": [
        {
          "name": "stdout",
          "output_type": "stream",
          "text": [
            "The term machine learning was coined in 1959 by Arthur Samuel, an IBM employee and pioneer in the field of computer gaming and artificial intelligence.[8][9] The synonym self-teaching computers was also used in this time period.[10][11]\n",
            "\n",
            "Although the earliest machine learning model was introduced in the 1950s when Arthur Samuel invented a program that calculated the winning chance in checkers for each side, the history of machine learning roots back to decades of human desire and effort to study human cognitive processes.[12] In 1949, Canadian psychologist Donald Hebb published the book The Organization of Behavior, in which he introduced a theoretical neural structure formed by certain interactions among nerve cells.[13] Hebb's model of neurons interacting with one another set a groundwork for how AIs and machine learning algorithms work under nodes, or artificial neurons used by computers to communicate data.[12] Other researchers who have studied human cognitive systems contributed to the modern machine learning technologies as well, including logician Walter Pitts and Warren McCulloch, who proposed the early mathematical models of neural networks to come up with algorithms that mirror human thought processes.[12]\n",
            "\n",
            "By the early 1960s an experimental \"learning machine\" with punched tape memory, called Cybertron, had been developed by Raytheon Company to analyze sonar signals, electrocardiograms, and speech patterns using rudimentary reinforcement learning. It was repetitively \"trained\" by a human operator/teacher to recognize patterns and equipped with a \"goof\" button to cause it to reevaluate incorrect decisions.[14] A representative book on research into machine learning during the 1960s was Nilsson's book on Learning Machines, dealing mostly with machine learning for pattern classification.[15] Interest related to pattern recognition continued into the 1970s, as described by Duda and Hart in 1973.[16] In 1981 a report was given on using teaching strategies so that an artificial neural network learns to recognize 40 characters (26 letters, 10 digits, and 4 special symbols) from a computer terminal.[17]\n",
            "\n",
            "Tom M. Mitchell provided a widely quoted, more formal definition of the algorithms studied in the machine learning field: \"A computer program is said to learn from experience E with respect to some class of tasks T and performance measure P if its performance at tasks in T, as measured by P, improves with experience E.\"[18] This definition of the tasks in which machine learning is concerned offers a fundamentally operational definition rather than defining the field in cognitive terms. This follows Alan Turing's proposal in his paper \"Computing Machinery and Intelligence\", in which the question \"Can machines think?\" is replaced with the question \"Can machines do what we (as thinking entities) can do?\".[19]\n",
            "\n",
            "Modern-day machine learning has two objectives. One is to classify data based on models which have been developed; the other purpose is to make predictions for future outcomes based on these models. A hypothetical algorithm specific to classifying data may use computer vision of moles coupled with supervised learning in order to train it to classify the cancerous moles. A machine learning algorithm for stock trading may inform the trader of future potential predictions.[20] \n"
          ]
        }
      ],
      "source": [
        "print(TEXT)"
      ]
    },
    {
      "cell_type": "code",
      "execution_count": 26,
      "metadata": {
        "colab": {
          "base_uri": "https://localhost:8080/",
          "height": 124
        },
        "id": "KRWoz7Rne4Ou",
        "outputId": "c05a0f6a-5716-4a10-f634-f83368a3acb1"
      },
      "outputs": [
        {
          "data": {
            "text/plain": [
              "'{\"1\": {\"mcq\": \"multiple choice question\", \"options\": {\"a\": \"choice here\", \"b\": \"choice here\", \"c\": \"choice here\", \"d\": \"choice here\"}, \"correct\": \"correct answer\"}, \"2\": {\"mcq\": \"multiple choice question\", \"options\": {\"a\": \"choice here\", \"b\": \"choice here\", \"c\": \"choice here\", \"d\": \"choice here\"}, \"correct\": \"correct answer\"}, \"3\": {\"mcq\": \"multiple choice question\", \"options\": {\"a\": \"choice here\", \"b\": \"choice here\", \"c\": \"choice here\", \"d\": \"choice here\"}, \"correct\": \"correct answer\"}, \"4\": {\"mcq\": \"multiple choice question\", \"options\": {\"a\": \"choice here\", \"b\": \"choice here\", \"c\": \"choice here\", \"d\": \"choice here\"}, \"correct\": \"correct answer\"}}'"
            ]
          },
          "execution_count": 26,
          "metadata": {},
          "output_type": "execute_result"
        }
      ],
      "source": [
        "#Serialize the Python dictionary into a JSON-formatted_string\n",
        "json.dumps(RESPONSE_JSON)"
      ]
    },
    {
      "cell_type": "code",
      "execution_count": 27,
      "metadata": {
        "id": "jmuhYjoze4Ov"
      },
      "outputs": [],
      "source": [
        "NUMBER=5\n",
        "SUBJECT=\"Machine Learning\"\n",
        "TONE=\"Simple\""
      ]
    },
    {
      "cell_type": "code",
      "execution_count": 28,
      "metadata": {
        "colab": {
          "base_uri": "https://localhost:8080/"
        },
        "id": "0ynRDISJe4Ov",
        "outputId": "ed8a5e3f-5e9b-4895-f180-da00f2ffc7c6"
      },
      "outputs": [
        {
          "name": "stderr",
          "output_type": "stream",
          "text": [
            "d:\\mcqgen\\env\\Lib\\site-packages\\langchain_core\\_api\\deprecation.py:141: LangChainDeprecationWarning: The method `Chain.__call__` was deprecated in langchain 0.1.0 and will be removed in 0.2.0. Use invoke instead.\n",
            "  warn_deprecated(\n"
          ]
        },
        {
          "name": "stdout",
          "output_type": "stream",
          "text": [
            "\n",
            "\n",
            "\u001b[1m> Entering new SequentialChain chain...\u001b[0m\n",
            "\n",
            "\n",
            "\u001b[1m> Entering new LLMChain chain...\u001b[0m\n",
            "Prompt after formatting:\n",
            "\u001b[32;1m\u001b[1;3m\n",
            "Text:The term machine learning was coined in 1959 by Arthur Samuel, an IBM employee and pioneer in the field of computer gaming and artificial intelligence.[8][9] The synonym self-teaching computers was also used in this time period.[10][11]\n",
            "\n",
            "Although the earliest machine learning model was introduced in the 1950s when Arthur Samuel invented a program that calculated the winning chance in checkers for each side, the history of machine learning roots back to decades of human desire and effort to study human cognitive processes.[12] In 1949, Canadian psychologist Donald Hebb published the book The Organization of Behavior, in which he introduced a theoretical neural structure formed by certain interactions among nerve cells.[13] Hebb's model of neurons interacting with one another set a groundwork for how AIs and machine learning algorithms work under nodes, or artificial neurons used by computers to communicate data.[12] Other researchers who have studied human cognitive systems contributed to the modern machine learning technologies as well, including logician Walter Pitts and Warren McCulloch, who proposed the early mathematical models of neural networks to come up with algorithms that mirror human thought processes.[12]\n",
            "\n",
            "By the early 1960s an experimental \"learning machine\" with punched tape memory, called Cybertron, had been developed by Raytheon Company to analyze sonar signals, electrocardiograms, and speech patterns using rudimentary reinforcement learning. It was repetitively \"trained\" by a human operator/teacher to recognize patterns and equipped with a \"goof\" button to cause it to reevaluate incorrect decisions.[14] A representative book on research into machine learning during the 1960s was Nilsson's book on Learning Machines, dealing mostly with machine learning for pattern classification.[15] Interest related to pattern recognition continued into the 1970s, as described by Duda and Hart in 1973.[16] In 1981 a report was given on using teaching strategies so that an artificial neural network learns to recognize 40 characters (26 letters, 10 digits, and 4 special symbols) from a computer terminal.[17]\n",
            "\n",
            "Tom M. Mitchell provided a widely quoted, more formal definition of the algorithms studied in the machine learning field: \"A computer program is said to learn from experience E with respect to some class of tasks T and performance measure P if its performance at tasks in T, as measured by P, improves with experience E.\"[18] This definition of the tasks in which machine learning is concerned offers a fundamentally operational definition rather than defining the field in cognitive terms. This follows Alan Turing's proposal in his paper \"Computing Machinery and Intelligence\", in which the question \"Can machines think?\" is replaced with the question \"Can machines do what we (as thinking entities) can do?\".[19]\n",
            "\n",
            "Modern-day machine learning has two objectives. One is to classify data based on models which have been developed; the other purpose is to make predictions for future outcomes based on these models. A hypothetical algorithm specific to classifying data may use computer vision of moles coupled with supervised learning in order to train it to classify the cancerous moles. A machine learning algorithm for stock trading may inform the trader of future potential predictions.[20] \n",
            "You are an expert MCQ maker. Given the above text, it is your job to create a quiz of 5 multiple choice questions for Machine Learning students in Simple tone.\n",
            "Make sure the questions are not repeated and check all the questions to be conforming the text as well.\n",
            "Make sure to format your response like RESPONSE_JSON and use it as a guide. Ensure to make 5 MCQs\n",
            "### RESPONSE_JSON\n",
            "{\"1\": {\"mcq\": \"multiple choice question\", \"options\": {\"a\": \"choice here\", \"b\": \"choice here\", \"c\": \"choice here\", \"d\": \"choice here\"}, \"correct\": \"correct answer\"}, \"2\": {\"mcq\": \"multiple choice question\", \"options\": {\"a\": \"choice here\", \"b\": \"choice here\", \"c\": \"choice here\", \"d\": \"choice here\"}, \"correct\": \"correct answer\"}, \"3\": {\"mcq\": \"multiple choice question\", \"options\": {\"a\": \"choice here\", \"b\": \"choice here\", \"c\": \"choice here\", \"d\": \"choice here\"}, \"correct\": \"correct answer\"}, \"4\": {\"mcq\": \"multiple choice question\", \"options\": {\"a\": \"choice here\", \"b\": \"choice here\", \"c\": \"choice here\", \"d\": \"choice here\"}, \"correct\": \"correct answer\"}}\n",
            "\n",
            "\u001b[0m\n",
            "\n",
            "\u001b[1m> Finished chain.\u001b[0m\n",
            "\n",
            "\n",
            "\u001b[1m> Entering new LLMChain chain...\u001b[0m\n",
            "Prompt after formatting:\n",
            "\u001b[32;1m\u001b[1;3m\n",
            "You are an expert grammarian and writer. Given a Multiple Choice Quiz for Machine Learning students.You need to evaluate the complexity of the question and give a complete analysis of the quiz. Only use at max 50 words for complexity\n",
            "if the quiz is not at per the congnitive and analytical abilities of the students,update the quiz questions which needs to be changed and change the tone such that it perfectly fits the students ability.\n",
            "Quiz_MCQs:\n",
            "### RESPONSE_JSON\n",
            "{\"1\": {\"mcq\": \"Who coined the term 'machine learning'?\", \"options\": {\"a\": \"Donald Hebb\", \"b\": \"Arthur Samuel\", \"c\": \"Tom M. Mitchell\", \"d\": \"Walter Pitts\"}, \"correct\": \"b\"}, \"2\": {\"mcq\": \"What was the name of the experimental 'learning machine' developed in the early 1960s?\", \"options\": {\"a\": \"Cybertron\", \"b\": \"The Organization of Behavior\", \"c\": \"Learning Machines\", \"d\": \"Self-teaching computers\"}, \"correct\": \"a\"}, \"3\": {\"mcq\": \"According to Tom M. Mitchell's definition, what does a machine learning algorithm learn from?\", \"options\": {\"a\": \"Experience\", \"b\": \"Data\", \"c\": \"Models\", \"d\": \"Predictions\"}, \"correct\": \"a\"}, \"4\": {\"mcq\": \"Which of the following is NOT an objective of modern-day machine learning?\", \"options\": {\"a\": \"Classifying data\", \"b\": \"Making predictions\", \"c\": \"Understanding human cognitive processes\", \"d\": \"Developing models\"}, \"correct\": \"c\"}, \"5\": {\"mcq\": \"Which of the following is a key concept in machine learning that involves using a computer to analyze data and make predictions?\", \"options\": {\"a\": \"Supervised learning\", \"b\": \"Classification\", \"c\": \"Artificial intelligence\", \"d\": \"Neural networks\"}, \"correct\": \"a\"}}\n",
            "\n",
            "Check from an expert English Writer of the above quiz:\n",
            "\u001b[0m\n",
            "\n",
            "\u001b[1m> Finished chain.\u001b[0m\n",
            "\n",
            "\u001b[1m> Finished chain.\u001b[0m\n"
          ]
        }
      ],
      "source": [
        "response=generate_evaluation_chain(\n",
        "  {\n",
        "    \"text\": TEXT,\n",
        "    \"number\": NUMBER,\n",
        "    \"subject\": SUBJECT,\n",
        "    \"tone\": TONE,\n",
        "    \"response_json\": json.dumps(RESPONSE_JSON)\n",
        "  }\n",
        ")"
      ]
    },
    {
      "cell_type": "code",
      "execution_count": 29,
      "metadata": {
        "colab": {
          "base_uri": "https://localhost:8080/"
        },
        "id": "u_UsyAh5e4Ow",
        "outputId": "8315a5d5-dae8-4d99-9d61-b0010ada3ede"
      },
      "outputs": [
        {
          "data": {
            "text/plain": [
              "{'text': 'The term machine learning was coined in 1959 by Arthur Samuel, an IBM employee and pioneer in the field of computer gaming and artificial intelligence.[8][9] The synonym self-teaching computers was also used in this time period.[10][11]\\n\\nAlthough the earliest machine learning model was introduced in the 1950s when Arthur Samuel invented a program that calculated the winning chance in checkers for each side, the history of machine learning roots back to decades of human desire and effort to study human cognitive processes.[12] In 1949, Canadian psychologist Donald Hebb published the book The Organization of Behavior, in which he introduced a theoretical neural structure formed by certain interactions among nerve cells.[13] Hebb\\'s model of neurons interacting with one another set a groundwork for how AIs and machine learning algorithms work under nodes, or artificial neurons used by computers to communicate data.[12] Other researchers who have studied human cognitive systems contributed to the modern machine learning technologies as well, including logician Walter Pitts and Warren McCulloch, who proposed the early mathematical models of neural networks to come up with algorithms that mirror human thought processes.[12]\\n\\nBy the early 1960s an experimental \"learning machine\" with punched tape memory, called Cybertron, had been developed by Raytheon Company to analyze sonar signals, electrocardiograms, and speech patterns using rudimentary reinforcement learning. It was repetitively \"trained\" by a human operator/teacher to recognize patterns and equipped with a \"goof\" button to cause it to reevaluate incorrect decisions.[14] A representative book on research into machine learning during the 1960s was Nilsson\\'s book on Learning Machines, dealing mostly with machine learning for pattern classification.[15] Interest related to pattern recognition continued into the 1970s, as described by Duda and Hart in 1973.[16] In 1981 a report was given on using teaching strategies so that an artificial neural network learns to recognize 40 characters (26 letters, 10 digits, and 4 special symbols) from a computer terminal.[17]\\n\\nTom M. Mitchell provided a widely quoted, more formal definition of the algorithms studied in the machine learning field: \"A computer program is said to learn from experience E with respect to some class of tasks T and performance measure P if its performance at tasks in T, as measured by P, improves with experience E.\"[18] This definition of the tasks in which machine learning is concerned offers a fundamentally operational definition rather than defining the field in cognitive terms. This follows Alan Turing\\'s proposal in his paper \"Computing Machinery and Intelligence\", in which the question \"Can machines think?\" is replaced with the question \"Can machines do what we (as thinking entities) can do?\".[19]\\n\\nModern-day machine learning has two objectives. One is to classify data based on models which have been developed; the other purpose is to make predictions for future outcomes based on these models. A hypothetical algorithm specific to classifying data may use computer vision of moles coupled with supervised learning in order to train it to classify the cancerous moles. A machine learning algorithm for stock trading may inform the trader of future potential predictions.[20] ',\n",
              " 'number': 5,\n",
              " 'subject': 'Machine Learning',\n",
              " 'tone': 'Simple',\n",
              " 'response_json': '{\"1\": {\"mcq\": \"multiple choice question\", \"options\": {\"a\": \"choice here\", \"b\": \"choice here\", \"c\": \"choice here\", \"d\": \"choice here\"}, \"correct\": \"correct answer\"}, \"2\": {\"mcq\": \"multiple choice question\", \"options\": {\"a\": \"choice here\", \"b\": \"choice here\", \"c\": \"choice here\", \"d\": \"choice here\"}, \"correct\": \"correct answer\"}, \"3\": {\"mcq\": \"multiple choice question\", \"options\": {\"a\": \"choice here\", \"b\": \"choice here\", \"c\": \"choice here\", \"d\": \"choice here\"}, \"correct\": \"correct answer\"}, \"4\": {\"mcq\": \"multiple choice question\", \"options\": {\"a\": \"choice here\", \"b\": \"choice here\", \"c\": \"choice here\", \"d\": \"choice here\"}, \"correct\": \"correct answer\"}}',\n",
              " 'quiz': '### RESPONSE_JSON\\n{\"1\": {\"mcq\": \"Who coined the term \\'machine learning\\'?\", \"options\": {\"a\": \"Donald Hebb\", \"b\": \"Arthur Samuel\", \"c\": \"Tom M. Mitchell\", \"d\": \"Walter Pitts\"}, \"correct\": \"b\"}, \"2\": {\"mcq\": \"What was the name of the experimental \\'learning machine\\' developed in the early 1960s?\", \"options\": {\"a\": \"Cybertron\", \"b\": \"The Organization of Behavior\", \"c\": \"Learning Machines\", \"d\": \"Self-teaching computers\"}, \"correct\": \"a\"}, \"3\": {\"mcq\": \"According to Tom M. Mitchell\\'s definition, what does a machine learning algorithm learn from?\", \"options\": {\"a\": \"Experience\", \"b\": \"Data\", \"c\": \"Models\", \"d\": \"Predictions\"}, \"correct\": \"a\"}, \"4\": {\"mcq\": \"Which of the following is NOT an objective of modern-day machine learning?\", \"options\": {\"a\": \"Classifying data\", \"b\": \"Making predictions\", \"c\": \"Understanding human cognitive processes\", \"d\": \"Developing models\"}, \"correct\": \"c\"}, \"5\": {\"mcq\": \"Which of the following is a key concept in machine learning that involves using a computer to analyze data and make predictions?\", \"options\": {\"a\": \"Supervised learning\", \"b\": \"Classification\", \"c\": \"Artificial intelligence\", \"d\": \"Neural networks\"}, \"correct\": \"a\"}}',\n",
              " 'review': '**Complexity:** Moderate\\n\\n**Analysis:** The quiz is well-structured and covers key concepts in machine learning. The questions are clear and concise, and the options are relevant and distinct. The quiz is appropriate for students with a basic understanding of machine learning.\\n\\n**Suggested Updates:** None'}"
            ]
          },
          "execution_count": 29,
          "metadata": {},
          "output_type": "execute_result"
        }
      ],
      "source": [
        "response"
      ]
    },
    {
      "cell_type": "code",
      "execution_count": 30,
      "metadata": {
        "id": "YHlWfPS_H3HH"
      },
      "outputs": [],
      "source": [
        "quiz=response.get('quiz')"
      ]
    },
    {
      "cell_type": "code",
      "execution_count": 31,
      "metadata": {
        "id": "ltOdRK1KH1AD"
      },
      "outputs": [],
      "source": [
        "import re\n",
        "quiz = re.sub(r'### RESPONSE_JSON\\n', '', quiz)"
      ]
    },
    {
      "cell_type": "code",
      "execution_count": 32,
      "metadata": {
        "colab": {
          "base_uri": "https://localhost:8080/",
          "height": 159
        },
        "id": "5AJlRa-vcrn5",
        "outputId": "f834a352-7014-4b7b-c63c-c8e0e19d5e86"
      },
      "outputs": [
        {
          "data": {
            "text/plain": [
              "'{\"1\": {\"mcq\": \"Who coined the term \\'machine learning\\'?\", \"options\": {\"a\": \"Donald Hebb\", \"b\": \"Arthur Samuel\", \"c\": \"Tom M. Mitchell\", \"d\": \"Walter Pitts\"}, \"correct\": \"b\"}, \"2\": {\"mcq\": \"What was the name of the experimental \\'learning machine\\' developed in the early 1960s?\", \"options\": {\"a\": \"Cybertron\", \"b\": \"The Organization of Behavior\", \"c\": \"Learning Machines\", \"d\": \"Self-teaching computers\"}, \"correct\": \"a\"}, \"3\": {\"mcq\": \"According to Tom M. Mitchell\\'s definition, what does a machine learning algorithm learn from?\", \"options\": {\"a\": \"Experience\", \"b\": \"Data\", \"c\": \"Models\", \"d\": \"Predictions\"}, \"correct\": \"a\"}, \"4\": {\"mcq\": \"Which of the following is NOT an objective of modern-day machine learning?\", \"options\": {\"a\": \"Classifying data\", \"b\": \"Making predictions\", \"c\": \"Understanding human cognitive processes\", \"d\": \"Developing models\"}, \"correct\": \"c\"}, \"5\": {\"mcq\": \"Which of the following is a key concept in machine learning that involves using a computer to analyze data and make predictions?\", \"options\": {\"a\": \"Supervised learning\", \"b\": \"Classification\", \"c\": \"Artificial intelligence\", \"d\": \"Neural networks\"}, \"correct\": \"a\"}}'"
            ]
          },
          "execution_count": 32,
          "metadata": {},
          "output_type": "execute_result"
        }
      ],
      "source": [
        "quiz"
      ]
    },
    {
      "cell_type": "code",
      "execution_count": 36,
      "metadata": {
        "id": "OCzVkuMke4Ow"
      },
      "outputs": [],
      "source": [
        "quiz=json.loads(quiz)"
      ]
    },
    {
      "cell_type": "code",
      "execution_count": 37,
      "metadata": {
        "id": "8z5lSzxUe4Ow"
      },
      "outputs": [],
      "source": [
        "quiz_table_data = []\n",
        "for key, value in quiz.items():\n",
        "  mcq=value['mcq']\n",
        "  options=\"|\".join(\n",
        "      [\n",
        "          f\"{option}: {option_value}\"\n",
        "          for option, option_value in value[\"options\"].items()\n",
        "      ]\n",
        "  )\n",
        "  correct=value[\"correct\"]\n",
        "  quiz_table_data.append({\"MCQ\": mcq, \"Choices\": options, \"Correct\": correct})"
      ]
    },
    {
      "cell_type": "code",
      "execution_count": 38,
      "metadata": {
        "colab": {
          "base_uri": "https://localhost:8080/"
        },
        "id": "fL9qOW3mG2hj",
        "outputId": "3bed056b-2523-4fd5-de46-66370faed635"
      },
      "outputs": [
        {
          "data": {
            "text/plain": [
              "[{'MCQ': 'Who is considered the pioneer in the field of machine learning?',\n",
              "  'Choices': 'a: Donald Hebb|b: Arthur Samuel|c: Raytheon Company|d: Tom M. Mitchell',\n",
              "  'Correct': 'b'},\n",
              " {'MCQ': 'What is the main objective of modern-day machine learning?',\n",
              "  'Choices': 'a: To understand human cognitive processes|b: To simulate human thought processes|c: To classify data and make predictions|d: To create self-teaching computers',\n",
              "  'Correct': 'c'},\n",
              " {'MCQ': 'Which of the following was NOT a significant contribution to the development of machine learning?',\n",
              "  'Choices': \"a: Hebb's model of neurons|b: Cybertron's rudimentary reinforcement learning|c: Nilsson's book on Learning Machines|d: Turing's test for machine intelligence\",\n",
              "  'Correct': 'd'},\n",
              " {'MCQ': \"According to Tom M. Mitchell's definition, what is a key characteristic of a machine learning algorithm?\",\n",
              "  'Choices': 'a: It must be able to learn from experience|b: It must be able to perform cognitive tasks|c: It must be based on a model of the human brain|d: It must be able to make accurate predictions',\n",
              "  'Correct': 'a'},\n",
              " {'MCQ': 'What type of learning involves using a labeled dataset to train a model?',\n",
              "  'Choices': 'a: Unsupervised learning|b: Supervised learning|c: Reinforcement learning|d: Transfer learning',\n",
              "  'Correct': 'b'}]"
            ]
          },
          "execution_count": 38,
          "metadata": {},
          "output_type": "execute_result"
        }
      ],
      "source": [
        "quiz_table_data"
      ]
    },
    {
      "cell_type": "code",
      "execution_count": 39,
      "metadata": {
        "id": "p2YfLceQG-CE"
      },
      "outputs": [],
      "source": [
        "df=pd.DataFrame(quiz_table_data)"
      ]
    },
    {
      "cell_type": "code",
      "execution_count": 40,
      "metadata": {
        "id": "DS0uLFKjHFkY"
      },
      "outputs": [],
      "source": [
        "df.to_csv(\"genai.csv\", index=False)"
      ]
    }
  ],
  "metadata": {
    "colab": {
      "gpuType": "T4",
      "provenance": []
    },
    "kernelspec": {
      "display_name": "Python 3",
      "name": "python3"
    },
    "language_info": {
      "codemirror_mode": {
        "name": "ipython",
        "version": 3
      },
      "file_extension": ".py",
      "mimetype": "text/x-python",
      "name": "python",
      "nbconvert_exporter": "python",
      "pygments_lexer": "ipython3",
      "version": "3.11.5"
    }
  },
  "nbformat": 4,
  "nbformat_minor": 0
}
